{
 "cells": [
  {
   "cell_type": "code",
   "execution_count": 1,
   "id": "55fe93ea-89b4-4dd6-a8f3-cc6d6917929f",
   "metadata": {},
   "outputs": [
    {
     "name": "stdout",
     "output_type": "stream",
     "text": [
      "Harshita Jain\n"
     ]
    }
   ],
   "source": [
    "name=\"Harshita Jain\"\n",
    "print(name)"
   ]
  },
  {
   "cell_type": "code",
   "execution_count": 9,
   "id": "0c778d11-9cba-4f35-95ca-58042ae4d2d1",
   "metadata": {},
   "outputs": [
    {
     "name": "stdin",
     "output_type": "stream",
     "text": [
      "enter the value -10\n",
      "enter the value 2\n"
     ]
    },
    {
     "name": "stdout",
     "output_type": "stream",
     "text": [
      "-8\n",
      "The sum is negative.\n"
     ]
    }
   ],
   "source": [
    "x=int(input(\"enter the value\"))\n",
    "y=int(input(\"enter the value\"))\n",
    "z=x+y\n",
    "print(z)\n",
    "if z > 0:\n",
    "    print(\"The sum is positive.\")\n",
    "else:\n",
    "    print(\"The sum is negative.\")"
   ]
  },
  {
   "cell_type": "code",
   "execution_count": 17,
   "id": "1af7b6db-2993-4c9e-bdd3-608a0bfa7c49",
   "metadata": {},
   "outputs": [
    {
     "name": "stdin",
     "output_type": "stream",
     "text": [
      "enter the value 1\n"
     ]
    },
    {
     "name": "stdout",
     "output_type": "stream",
     "text": [
      "please enter valid input\n"
     ]
    }
   ],
   "source": [
    "x=12345\n",
    "y=int(input(\"enter the value\"))\n",
    "if x==y:\n",
    "    print(\"correct\")\n",
    "else:\n",
    "    print(\"please enter valid input\")\n"
   ]
  },
  {
   "cell_type": "code",
   "execution_count": 26,
   "id": "52ce765c-97d3-4a8e-b9cd-6553e38dcfeb",
   "metadata": {},
   "outputs": [
    {
     "name": "stdout",
     "output_type": "stream",
     "text": [
      "harshita jain\n"
     ]
    }
   ],
   "source": [
    "firstname=\"harshita\"\n",
    "lastname=\"jain\"\n",
    "wholename=\"harshita\" + \" \"+ \"jain\"\n",
    "print(wholename)"
   ]
  },
  {
   "cell_type": "code",
   "execution_count": 27,
   "id": "4b70b8b0-ed16-4f50-aafa-cfc0a7eac7db",
   "metadata": {},
   "outputs": [
    {
     "name": "stdout",
     "output_type": "stream",
     "text": [
      "24\n",
      "10\n"
     ]
    }
   ],
   "source": [
    "list1=[1,2,3,4]\n",
    "list2=[1,2,3,4]\n",
    "sum_list2=0\n",
    "mul_list1=1\n",
    "for i in list1:\n",
    "    mul_list1*=i\n",
    "    sum_list2+=i\n",
    "print(mul_list1)\n",
    "print(sum_list2)\n",
    "    "
   ]
  },
  {
   "cell_type": "code",
   "execution_count": 78,
   "id": "b1bdaac0-8854-447e-a5e7-6c75f7a8058b",
   "metadata": {},
   "outputs": [
    {
     "name": "stdout",
     "output_type": "stream",
     "text": [
      "list [5, 8, 4, 18, 55, 6, 3, 44]\n",
      "duplicate number list: [8, 8, 18, 5, 3]\n"
     ]
    }
   ],
   "source": [
    "List = [5, 8,4,18,8,55,6,8,3,18,5,3,44,]\n",
    "original=[ ]\n",
    "duplicate=[ ]\n",
    "for i in list:\n",
    "    if i not in original:\n",
    "        original.append(i)\n",
    "    else:\n",
    "        duplicate.append(i)\n",
    "print(\"list\",original)\n",
    "print(\"duplicate number list:\",duplicate)    "
   ]
  },
  {
   "cell_type": "code",
   "execution_count": 50,
   "id": "c56d9ff8-1c00-4000-897a-77fa78752fb6",
   "metadata": {},
   "outputs": [
    {
     "name": "stdout",
     "output_type": "stream",
     "text": [
      "['snack', 'crocodile', 'zebra', 'lion', 'tiger', 'cat']\n"
     ]
    }
   ],
   "source": [
    "list = [\"cat\",\"tiger\",\"lion\", \"zebra\" , \"crocodile\", \"snack\"]\n",
    "reversed_list=[]\n",
    "for i in reversed(list):\n",
    "    reversed_list.append(i)\n",
    "print(reversed_list)    "
   ]
  },
  {
   "cell_type": "code",
   "execution_count": 58,
   "id": "3dcdccc4-20f7-4768-97d4-d70afacfb71b",
   "metadata": {},
   "outputs": [
    {
     "name": "stdout",
     "output_type": "stream",
     "text": [
      "Is 3 a member of [1, 2, 3, 4, 5]? True\n"
     ]
    }
   ],
   "source": [
    "x = 3\n",
    "a = [1, 2, 3, 4, 5]\n",
    "\n",
    "\n",
    "is_member = False\n",
    "for item in a:\n",
    "    if item == x:\n",
    "        is_member = True\n",
    "        break  \n",
    "\n",
    "print(f\"Is {x} a member of {a}? {is_member}\")"
   ]
  },
  {
   "cell_type": "code",
   "execution_count": 61,
   "id": "3b831026-e121-4984-b8b5-991638275b09",
   "metadata": {},
   "outputs": [
    {
     "name": "stdout",
     "output_type": "stream",
     "text": [
      "the common elements : [4, 5]\n"
     ]
    }
   ],
   "source": [
    "x=[1,2,3,4,5]\n",
    "y=[4,5,6,7,8]\n",
    "z=[]\n",
    "for i in x:\n",
    "    if i in y:\n",
    "        z.append(i)\n",
    "print(\"the common elements :\",z)        "
   ]
  },
  {
   "cell_type": "code",
   "execution_count": 74,
   "id": "c6b211d9-7e20-43bc-98cb-793e9c2c2736",
   "metadata": {},
   "outputs": [
    {
     "name": "stdout",
     "output_type": "stream",
     "text": [
      "Athletes who participated only in 100m race: {'Rajesh', 'Vaihai', 'John', 'Vikay'}\n",
      "Athletes who participated only in 200m race: {'Petter', 'Priyanka', 'Vetry'}\n",
      "Athletes who participated in both 100m and 200m race: {'Kumar', 'Malar'}\n",
      "Athletes who participated in only one race: {'John', 'Vikay', 'Vetry', 'Rajesh', 'Vaihai', 'Priyanka', 'Petter'}\n"
     ]
    }
   ],
   "source": [
    "hundred_meters = ['Vikay', 'John', 'Kumar', 'Rajesh', 'Malar', 'Vaihai']\n",
    "two_hundred_meters = ['Vetry', 'Petter', 'Priyanka', 'Kumar', 'Malar']\n",
    "\n",
    "\n",
    "hundred_meters_set = set(hundred_meters)\n",
    "two_hundred_meters_set = set(two_hundred_meters)\n",
    "\n",
    "\n",
    "only_hundred_meters = hundred_meters_set - two_hundred_meters_set\n",
    "print(f\"Athletes who participated only in 100m race: {only_hundred_meters}\")\n",
    "\n",
    "\n",
    "only_two_hundred_meters = two_hundred_meters_set - hundred_meters_set\n",
    "print(f\"Athletes who participated only in 200m race: {only_two_hundred_meters}\")\n",
    "\n",
    "\n",
    "both_races = hundred_meters_set & two_hundred_meters_set\n",
    "print(f\"Athletes who participated in both 100m and 200m race: {both_races}\")\n",
    "\n",
    "\n",
    "only_one_race = (hundred_meters_set | two_hundred_meters_set) - (hundred_meters_set & two_hundred_meters_set)\n",
    "print(f\"Athletes who participated in only one race: {only_one_race}\")"
   ]
  },
  {
   "cell_type": "code",
   "execution_count": 84,
   "id": "627165ae-2648-4e31-9076-fadb6fa60954",
   "metadata": {},
   "outputs": [
    {
     "name": "stdout",
     "output_type": "stream",
     "text": [
      "         \n",
      "      A   \n",
      "    A  B  C   \n",
      "  A  B  C  D  E   \n"
     ]
    }
   ],
   "source": [
    "for i in range(0,4):\n",
    "    for k in range(0,4-i):\n",
    "        print(\" \", end=\" \")\n",
    "    for j in range(1,2*i):\n",
    "        print(chr(64+j), end= \"  \")\n",
    "    print(\" \")"
   ]
  },
  {
   "cell_type": "code",
   "execution_count": 85,
   "id": "67e50474-c192-4af7-8b31-c360c4814ff3",
   "metadata": {},
   "outputs": [
    {
     "name": "stdout",
     "output_type": "stream",
     "text": [
      "         \n",
      "      A   \n",
      "    A  B   \n",
      "  A  B  C   \n"
     ]
    }
   ],
   "source": [
    "for i in range(0,4):\n",
    "    for k in range(0,4-i):\n",
    "        print(\" \", end=\" \")\n",
    "    for j in range(1,i+1):\n",
    "        print(chr(64+j), end= \"  \")\n",
    "    print(\" \")"
   ]
  },
  {
   "cell_type": "code",
   "execution_count": 86,
   "id": "a8d9a6fb-13ae-49df-a9f6-93dee8316af5",
   "metadata": {},
   "outputs": [
    {
     "name": "stdout",
     "output_type": "stream",
     "text": [
      "  * \n",
      " *** \n",
      "***** \n"
     ]
    }
   ],
   "source": [
    "for i in range(1,4):\n",
    "    for j in range(1,4-i):\n",
    "        print(\"\",end=\" \")\n",
    "    for k in range(1, 2*i):\n",
    "        print(\"*\",end=\"\")\n",
    "    print(\" \")        \n",
    "        "
   ]
  },
  {
   "cell_type": "code",
   "execution_count": 87,
   "id": "1ea7a063-bc16-43cc-b608-70d370189121",
   "metadata": {},
   "outputs": [
    {
     "name": "stdout",
     "output_type": "stream",
     "text": [
      "******* \n",
      " ***** \n",
      "  *** \n",
      "   * \n"
     ]
    }
   ],
   "source": [
    "for i in range(4,0,-1):\n",
    "    for j in range(0,4-i):\n",
    "        print(\"\",end=\" \")\n",
    "    for k in range(0, 2*i-1):\n",
    "        print(\"*\",end=\"\")\n",
    "    print(\" \")       "
   ]
  },
  {
   "cell_type": "code",
   "execution_count": 88,
   "id": "7300ee0d-b0cf-4b0a-a18d-18bd5a4e3eaa",
   "metadata": {},
   "outputs": [
    {
     "name": "stdout",
     "output_type": "stream",
     "text": [
      "***** \n",
      " *** \n",
      "  * \n",
      "    \n"
     ]
    }
   ],
   "source": [
    "for i in range(4,0,-1):\n",
    "    for j in range(0,4-i):\n",
    "        print(\"\",end=\" \")\n",
    "    for k in range(1, 2*i-2):\n",
    "        print(\"*\",end=\"\")\n",
    "    print(\" \")       "
   ]
  },
  {
   "cell_type": "code",
   "execution_count": null,
   "id": "3c340142-d4e3-42a0-8450-bef047418655",
   "metadata": {},
   "outputs": [],
   "source": []
  }
 ],
 "metadata": {
  "kernelspec": {
   "display_name": "Python 3 (ipykernel)",
   "language": "python",
   "name": "python3"
  },
  "language_info": {
   "codemirror_mode": {
    "name": "ipython",
    "version": 3
   },
   "file_extension": ".py",
   "mimetype": "text/x-python",
   "name": "python",
   "nbconvert_exporter": "python",
   "pygments_lexer": "ipython3",
   "version": "3.10.11"
  }
 },
 "nbformat": 4,
 "nbformat_minor": 5
}
