{
 "cells": [
  {
   "cell_type": "code",
   "execution_count": 5,
   "id": "4d2bd065-4af6-491e-b1a3-6ca1f107fa42",
   "metadata": {},
   "outputs": [
    {
     "name": "stdout",
     "output_type": "stream",
     "text": [
      " \n",
      "1  \n",
      "1 2  \n",
      "1 2 3  \n",
      "1 2 3 4  \n"
     ]
    }
   ],
   "source": [
    "n = 1\n",
    "for i in range(1,6,1):\n",
    "    for j in range(1,i):\n",
    "        print(j,end=\" \")\n",
    "        \n",
    "    print(\" \")"
   ]
  },
  {
   "cell_type": "code",
   "execution_count": 6,
   "id": "6cced6ab-dbaf-443a-b888-7a2926ae01e7",
   "metadata": {},
   "outputs": [
    {
     "name": "stdout",
     "output_type": "stream",
     "text": [
      " \n",
      "1  \n",
      "2 3  \n",
      "4 5 6  \n",
      "7 8 9 10  \n"
     ]
    }
   ],
   "source": [
    "n = 1\n",
    "for i in range(1,6,1):\n",
    "    for j in range(1,i):\n",
    "        print(n,end=\" \")\n",
    "        n += 1\n",
    "    print(\" \")"
   ]
  },
  {
   "cell_type": "code",
   "execution_count": 7,
   "id": "34363381-ad26-439a-8a20-5aad05c166c2",
   "metadata": {},
   "outputs": [
    {
     "name": "stdout",
     "output_type": "stream",
     "text": [
      " \n",
      "10  \n",
      "9 8  \n",
      "7 6 5  \n",
      "4 3 2 1  \n"
     ]
    }
   ],
   "source": [
    "n = 10\n",
    "for i in range(1,6,1):\n",
    "    for j in range(1,i):\n",
    "        print(n,end=\" \")\n",
    "        n -= 1\n",
    "    print(\" \")"
   ]
  },
  {
   "cell_type": "code",
   "execution_count": 9,
   "id": "49ac9772-8536-425d-9449-e4f121fe67dd",
   "metadata": {},
   "outputs": [
    {
     "name": "stdout",
     "output_type": "stream",
     "text": [
      " \n",
      "A  \n",
      "A B  \n",
      "A B C  \n",
      "A B C D  \n"
     ]
    }
   ],
   "source": [
    "\n",
    "for i in range(1,6,1):\n",
    "    for j in range(1,i):\n",
    "        print(chr(64+j),end=\" \")\n",
    "        \n",
    "    print(\" \")"
   ]
  },
  {
   "cell_type": "code",
   "execution_count": 16,
   "id": "df28ab16-187c-46bb-b54f-3c2c71640d6e",
   "metadata": {},
   "outputs": [
    {
     "name": "stdout",
     "output_type": "stream",
     "text": [
      "A  \n",
      "B C  \n",
      "D E F  \n",
      "G H I J  \n"
     ]
    }
   ],
   "source": [
    "n = 1\n",
    "for i in range(1,5,1):\n",
    "    for j in range(0,i):\n",
    "        print(chr(64+n),end=\" \")\n",
    "        n=n+1        \n",
    "    print(\" \")"
   ]
  },
  {
   "cell_type": "code",
   "execution_count": 17,
   "id": "79b0f74a-320e-4487-85d8-1b09f0ba23ee",
   "metadata": {},
   "outputs": [
    {
     "name": "stdout",
     "output_type": "stream",
     "text": [
      "* \n",
      "* * \n",
      "*   * \n",
      "*     * \n",
      "* * * * * \n"
     ]
    }
   ],
   "source": [
    "for i in range(1,6):\n",
    "     for j in range(1,i+1):\n",
    "         if(j==1 or j==i or i==5):\n",
    "             print(\"*\",end=' ')\n",
    "         else:\n",
    "             print(\" \",end=\" \")\n",
    "     print()        "
   ]
  },
  {
   "cell_type": "code",
   "execution_count": 19,
   "id": "d8d0f97b-dd01-4ff1-b3ce-a20d1fd0c8d3",
   "metadata": {},
   "outputs": [
    {
     "name": "stdout",
     "output_type": "stream",
     "text": [
      " \n",
      "1 a  \n",
      "2 b 3 c  \n",
      "4 d 5 e 6 f  \n",
      "7 g 8 h 9 i 10 j  \n"
     ]
    }
   ],
   "source": [
    "n = 1\n",
    "b = 1\n",
    "for i in range(1,6,1):\n",
    "    for j in range(1,i):\n",
    "        print(b,chr(96+n),end=\" \")\n",
    "        n=n+1\n",
    "        b = b+1\n",
    "       \n",
    "    print(\" \")"
   ]
  },
  {
   "cell_type": "code",
   "execution_count": null,
   "id": "a84b89d7-1a69-47f0-bfb4-e831fd7dffcd",
   "metadata": {},
   "outputs": [],
   "source": []
  }
 ],
 "metadata": {
  "kernelspec": {
   "display_name": "Python 3 (ipykernel)",
   "language": "python",
   "name": "python3"
  },
  "language_info": {
   "codemirror_mode": {
    "name": "ipython",
    "version": 3
   },
   "file_extension": ".py",
   "mimetype": "text/x-python",
   "name": "python",
   "nbconvert_exporter": "python",
   "pygments_lexer": "ipython3",
   "version": "3.10.11"
  }
 },
 "nbformat": 4,
 "nbformat_minor": 5
}
