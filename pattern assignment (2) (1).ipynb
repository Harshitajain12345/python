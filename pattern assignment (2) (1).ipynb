{
 "cells": [
  {
   "cell_type": "code",
   "execution_count": 224,
   "id": "93582590-c2d6-4fc3-87d4-d1fdfc5e6eb3",
   "metadata": {},
   "outputs": [
    {
     "name": "stdout",
     "output_type": "stream",
     "text": [
      " \n",
      "A 1  \n",
      "B 2 C 3  \n",
      "D 4 E 5 F 6  \n",
      "G 7 H 8 I 9 J 10  \n"
     ]
    }
   ],
   "source": [
    "n = 1\n",
    "b = 1\n",
    "for i in range(1,6,1):\n",
    "    for j in range(1,i):\n",
    "        print(chr(64+n),b,end=\" \")\n",
    "        n=n+1\n",
    "        b = b+1\n",
    "    print(\" \")"
   ]
  },
  {
   "cell_type": "code",
   "execution_count": 19,
   "id": "4f1af16e-cbd5-46bd-ab07-4485b4e76123",
   "metadata": {},
   "outputs": [
    {
     "name": "stdout",
     "output_type": "stream",
     "text": [
      "1 2 3 4 *  \n",
      "5 6 7 * *  \n",
      "8 9 * * *  \n",
      "10 * * * *  \n"
     ]
    }
   ],
   "source": [
    "n=1\n",
    "for i in range(1,5,1):\n",
    "    for k in range(i,5):\n",
    "        print(n,end=\" \")\n",
    "        n=n+1\n",
    "    for j in range(1,i+1):\n",
    "        print(\"*\", end=\" \")\n",
    "    print(\" \")    \n"
   ]
  },
  {
   "cell_type": "code",
   "execution_count": 227,
   "id": "97333d49-958b-43dd-9dd1-f5bc28c38bfc",
   "metadata": {},
   "outputs": [
    {
     "name": "stdout",
     "output_type": "stream",
     "text": [
      "A B C D 1  \n",
      "E F G 2 3  \n",
      "H I 4 5 6  \n",
      "J 7 8 9 10  \n"
     ]
    }
   ],
   "source": [
    "\n",
    "n=1\n",
    "b=1\n",
    "for i in range(1,5):\n",
    "    for k in range(i,5):\n",
    "        print(chr(64+n),end=\" \")\n",
    "        n=n+1\n",
    "        \n",
    "    for j in range(1,i+1):\n",
    "        print(b,end=\" \")\n",
    "        b=b+1\n",
    "        \n",
    "    print(\" \")\n",
    "    \n"
   ]
  },
  {
   "cell_type": "code",
   "execution_count": 44,
   "id": "4dd509d6-cc50-44fe-8fee-64040345747d",
   "metadata": {},
   "outputs": [
    {
     "name": "stdout",
     "output_type": "stream",
     "text": [
      "A B C D 1  \n",
      "E F G 2 3  \n",
      "H I 4 5 6  \n",
      "J 7 8 9 10  \n"
     ]
    }
   ],
   "source": [
    "n=1\n",
    "b=1\n",
    "for i in range(1,5):\n",
    "    for k in range(i,5):\n",
    "        print(chr(64+n),end=\" \")\n",
    "        n=n+1\n",
    "        \n",
    "        \n",
    "  \n",
    "    for j in range(1,i+1):\n",
    "        print(b,end=\" \")\n",
    "        b=b+1\n",
    "        \n",
    "    print(\" \")"
   ]
  },
  {
   "cell_type": "code",
   "execution_count": 57,
   "id": "dc982678-0bce-4444-b01a-97f1841ca4e7",
   "metadata": {},
   "outputs": [
    {
     "name": "stdout",
     "output_type": "stream",
     "text": [
      "A B C D  \n",
      "A B C  \n",
      "A B  \n",
      "A  \n"
     ]
    }
   ],
   "source": [
    "\n",
    "for i in range(5,1,-1):\n",
    "    for j in range(1,i):\n",
    "        print(chr(64+j),end=\" \")\n",
    "    print(\" \")\n",
    "    "
   ]
  },
  {
   "cell_type": "code",
   "execution_count": 230,
   "id": "4a3e757e-e917-4c10-9fbf-c80de839fd26",
   "metadata": {},
   "outputs": [
    {
     "name": "stdout",
     "output_type": "stream",
     "text": [
      " \n",
      "4  \n",
      "3 4  \n",
      "2 3 4  \n"
     ]
    }
   ],
   "source": [
    "\n",
    "for i in range(5,1,-1):\n",
    "    for k in range(i,1):\n",
    "        print(chr(64+k),end=\" \")\n",
    "        \n",
    "    for j in range(i,5):\n",
    "        print(j,end=\" \")\n",
    "        \n",
    "    print(\" \")\n",
    "    "
   ]
  },
  {
   "cell_type": "code",
   "execution_count": 231,
   "id": "2b002cf9-f1f7-4dc7-ad53-0396f64618aa",
   "metadata": {},
   "outputs": [
    {
     "name": "stdout",
     "output_type": "stream",
     "text": [
      "         \n",
      "      A  \n",
      "    B C  \n",
      "  D E F  \n",
      "G H I J  \n"
     ]
    }
   ],
   "source": [
    "n=1\n",
    "\n",
    "for i in range(1,6):\n",
    "    for k in range(1,6-i):\n",
    "        print(\" \",end=\" \")\n",
    "       \n",
    "    for j in range(1,i):\n",
    "        print(chr(64+n),end=\" \")\n",
    "        n=n+1\n",
    "    print(\" \")    \n",
    "    "
   ]
  },
  {
   "cell_type": "code",
   "execution_count": 89,
   "id": "1dc1d5c4-9033-41f9-b30c-60c6b01279b2",
   "metadata": {},
   "outputs": [
    {
     "name": "stdout",
     "output_type": "stream",
     "text": [
      "* * * * *  \n",
      "* * * *  \n",
      "* * *  \n",
      "* *  \n",
      "*  \n"
     ]
    }
   ],
   "source": [
    "for i in range(6,1,-1):\n",
    "    for k in range(6-i,-1):\n",
    "        print(\" \",end=\" \")\n",
    "       \n",
    "    for j in range(1,i):\n",
    "        print(\"*\",end=\" \")\n",
    "        n=n+1\n",
    "    print(\" \")    \n",
    "    "
   ]
  },
  {
   "cell_type": "code",
   "execution_count": 100,
   "id": "50de1ebf-e087-497e-9077-d9c129f08cda",
   "metadata": {},
   "outputs": [
    {
     "name": "stdout",
     "output_type": "stream",
     "text": [
      "*  *  *  *   \n",
      "  *  *  *   \n",
      "    *  *   \n",
      "      *   \n",
      "         \n"
     ]
    }
   ],
   "source": [
    "for i in range(1,6):\n",
    "    for k in range(1,i):\n",
    "        print(\" \", end=\" \")\n",
    "    for j in range(1,6-i):\n",
    "        print(\"*\", end= \"  \")\n",
    "    print(\" \")"
   ]
  },
  {
   "cell_type": "code",
   "execution_count": 103,
   "id": "2484f7fc-9304-416e-8ef5-bc0189091361",
   "metadata": {},
   "outputs": [
    {
     "name": "stdout",
     "output_type": "stream",
     "text": [
      " \n",
      "A  \n",
      "A B  \n",
      "A B C  \n",
      "A B C D  \n"
     ]
    }
   ],
   "source": [
    "for i in range(1,6,1):\n",
    "    for j in range(1,i):\n",
    "        print(chr(64+j),end=\" \")\n",
    "    print(\" \")\n",
    "    "
   ]
  },
  {
   "cell_type": "code",
   "execution_count": 232,
   "id": "55168e29-bf9d-4889-ac68-1d809f03a76d",
   "metadata": {},
   "outputs": [
    {
     "name": "stdout",
     "output_type": "stream",
     "text": [
      "         \n",
      "      *  \n",
      "    * *  \n",
      "  * * *  \n",
      "* * * *  \n"
     ]
    }
   ],
   "source": [
    "for i in range(1,6,1):\n",
    "    for k in range(1,6-i):\n",
    "        print(\" \",end=\" \")\n",
    "       \n",
    "    for j in range(1,i):\n",
    "        print(\"*\",end=\" \")\n",
    "        \n",
    "    print(\" \")    \n",
    "    "
   ]
  },
  {
   "cell_type": "code",
   "execution_count": 106,
   "id": "f36d0128-017f-4fdd-99a3-4470c1361754",
   "metadata": {},
   "outputs": [
    {
     "name": "stdout",
     "output_type": "stream",
     "text": [
      " \n",
      "*  \n",
      "* *  \n",
      "* * *  \n",
      "* * * *  \n"
     ]
    }
   ],
   "source": [
    "for i in range(1,6,1):\n",
    "    for k in range(6-i,1):\n",
    "        print(\" \",end=\" \")\n",
    "       \n",
    "    for j in range(1,i):\n",
    "        print(\"*\",end=\" \")\n",
    "        n=n+1\n",
    "    print(\" \")    \n",
    "    "
   ]
  },
  {
   "cell_type": "code",
   "execution_count": 209,
   "id": "b4b5515f-4bf3-45bc-bbeb-360faddf487d",
   "metadata": {},
   "outputs": [
    {
     "name": "stdout",
     "output_type": "stream",
     "text": [
      "* * * * *  \n",
      "  * * * *  \n",
      "    * * *  \n",
      "      * *  \n",
      "        *  \n"
     ]
    }
   ],
   "source": [
    "for i in range(5,0,-1):\n",
    "    for k in range(1,6-i):\n",
    "        print(\" \",end=\" \")\n",
    "       \n",
    "    for j in range(1,i+1):\n",
    "        print(\"*\",end=\" \")\n",
    "        \n",
    "    print(\" \")    \n",
    "    "
   ]
  },
  {
   "cell_type": "code",
   "execution_count": 137,
   "id": "534688f1-3a06-4f8e-a5a3-d6eb65ba6254",
   "metadata": {},
   "outputs": [
    {
     "name": "stdout",
     "output_type": "stream",
     "text": [
      "10  \n",
      "11 12  \n",
      "13 14 15  \n"
     ]
    }
   ],
   "source": [
    "n=10\n",
    "for i in range(1,4):\n",
    "    for j in range(1,i+1):\n",
    "        print(n,end=\" \")\n",
    "        n=n+1\n",
    "    print(\" \")    \n"
   ]
  },
  {
   "cell_type": "code",
   "execution_count": 174,
   "id": "d195f9be-3a9a-41f2-8a89-ea7f5c6d2ed4",
   "metadata": {},
   "outputs": [
    {
     "name": "stdout",
     "output_type": "stream",
     "text": [
      "1  \n",
      "1 2  \n",
      "1 2 3  \n",
      "1 2 3 4  \n"
     ]
    }
   ],
   "source": [
    "\n",
    "for i in range(1,5):\n",
    "    for j in range(1,i+1):\n",
    "        print(j,end=\" \")\n",
    "        \n",
    "        \n",
    "    print(\" \")    \n"
   ]
  },
  {
   "cell_type": "code",
   "execution_count": 147,
   "id": "564c478d-6380-4ed5-9a4d-6fcab72c5803",
   "metadata": {},
   "outputs": [
    {
     "name": "stdout",
     "output_type": "stream",
     "text": [
      "10  \n",
      "10 11  \n",
      "10 11 12  \n",
      "10 11 12 13  \n"
     ]
    }
   ],
   "source": [
    "n=10\n",
    "for i in range(1,5):\n",
    "    for j in range(10,10+i):\n",
    "        print(j,end=\" \")\n",
    "        \n",
    "        \n",
    "    print(\" \")    \n"
   ]
  },
  {
   "cell_type": "code",
   "execution_count": 149,
   "id": "e507c0f6-68e8-4578-a36e-b708395c60ad",
   "metadata": {},
   "outputs": [
    {
     "name": "stdout",
     "output_type": "stream",
     "text": [
      "A B C D  \n",
      "A B C  \n",
      "A B  \n",
      "A  \n"
     ]
    }
   ],
   "source": [
    "for i in range(5,1,-1):\n",
    "    for j in range(1,i):\n",
    "        print(chr(64+j),end=\" \")\n",
    "    print(\" \")"
   ]
  },
  {
   "cell_type": "code",
   "execution_count": 151,
   "id": "2733cb1c-2155-47ef-a6df-309175c9af7a",
   "metadata": {},
   "outputs": [
    {
     "name": "stdout",
     "output_type": "stream",
     "text": [
      " \n",
      "A  \n",
      "A B  \n",
      "A B C  \n",
      "A B C D  \n"
     ]
    }
   ],
   "source": [
    "for i in range(1,6,1):\n",
    "    for j in range(1,i):\n",
    "        print(chr(64+j),end=\" \")\n",
    "    print(\" \")"
   ]
  },
  {
   "cell_type": "code",
   "execution_count": 158,
   "id": "fa49cd47-9eba-4f8b-97b9-7a0b3388fc15",
   "metadata": {},
   "outputs": [
    {
     "name": "stdout",
     "output_type": "stream",
     "text": [
      "D  \n",
      "D C  \n",
      "D C B  \n",
      "D C B A  \n"
     ]
    }
   ],
   "source": [
    "for i in range(4,0,-1):\n",
    "    for j in range(4,i-1,-1):\n",
    "        print(chr(64+j),end=\" \")\n",
    "    print(\" \")"
   ]
  },
  {
   "cell_type": "code",
   "execution_count": 173,
   "id": "17be9c4a-e21a-4840-b62c-6559d31a9a0f",
   "metadata": {},
   "outputs": [
    {
     "name": "stdout",
     "output_type": "stream",
     "text": [
      "D C B A  \n",
      "D C B  \n",
      "D C  \n"
     ]
    }
   ],
   "source": [
    "for i in range(1,4,1):\n",
    "    for j in range(4,i-1,-1):\n",
    "        print(chr(64+j),end=\" \")\n",
    "    print(\" \")"
   ]
  },
  {
   "cell_type": "code",
   "execution_count": 191,
   "id": "6fdff92d-0d0f-4b05-814d-d9a54e01abac",
   "metadata": {},
   "outputs": [
    {
     "name": "stdout",
     "output_type": "stream",
     "text": [
      "1  \n",
      "2 1  \n",
      "3 2 1  \n",
      "4 3 2 1  \n"
     ]
    }
   ],
   "source": [
    "for i in range(1,5):\n",
    "    for j in range(i,i+1):\n",
    "        print(j,end=\" \")\n",
    "    for k in range(j,0,-1):\n",
    "        print(k,end=\" \")\n",
    "    print(\" \")    \n"
   ]
  },
  {
   "cell_type": "code",
   "execution_count": 220,
   "id": "78eb44fc-71d1-4ae4-b1fe-f654064fbfb8",
   "metadata": {},
   "outputs": [
    {
     "name": "stdout",
     "output_type": "stream",
     "text": [
      "1\n",
      "12\n",
      "121\n",
      "1212\n"
     ]
    }
   ],
   "source": [
    "for i in range(1,5): \n",
    "        for j in range(1,i+1 ):  \n",
    "          print(1 if j % 2 != 0 else 2, end='') \n",
    "        print() "
   ]
  },
  {
   "cell_type": "code",
   "execution_count": 216,
   "id": "08a95e26-cd47-4ead-bd1d-c287d5e4d9b5",
   "metadata": {},
   "outputs": [
    {
     "name": "stdout",
     "output_type": "stream",
     "text": [
      "*  \n",
      "* *  \n",
      "* * *  \n",
      "* * * *  \n",
      "* * * * *  \n"
     ]
    }
   ],
   "source": [
    "for i in range(0,5):\n",
    "    for j in range(0,i+1):\n",
    "        print(\"*\",end=\" \")\n",
    "    print(\" \")  "
   ]
  },
  {
   "cell_type": "code",
   "execution_count": 207,
   "id": "d78e5df6-c084-411b-a457-a9b9c52e6c93",
   "metadata": {},
   "outputs": [
    {
     "name": "stdout",
     "output_type": "stream",
     "text": [
      "1  \n",
      "1 2  \n",
      "1 2 3  \n",
      "1 2 3 4  \n"
     ]
    }
   ],
   "source": [
    "for i in range(1,5):\n",
    "    for j in range(1,i+1):\n",
    "        print(j,end=\" \")\n",
    "    print(\" \")    \n",
    "    "
   ]
  },
  {
   "cell_type": "code",
   "execution_count": 208,
   "id": "dd5125c7-de1c-4151-9983-5ccd358ce4fa",
   "metadata": {},
   "outputs": [
    {
     "name": "stdout",
     "output_type": "stream",
     "text": [
      "1 \n",
      "23 \n",
      "456 \n",
      "78910 \n"
     ]
    }
   ],
   "source": [
    "n=1\n",
    "for i in range(1,5):\n",
    "    for j in range(1,i+1):\n",
    "        print(n,end=\"\")\n",
    "        n=n+1\n",
    "    print(\" \")    \n",
    "    "
   ]
  },
  {
   "cell_type": "code",
   "execution_count": 210,
   "id": "1829bf75-cbfa-4a81-bbce-5d790c4ffe1b",
   "metadata": {},
   "outputs": [
    {
     "name": "stdout",
     "output_type": "stream",
     "text": [
      "4 3 2 1  \n",
      "3 2 1  \n",
      "2 1  \n",
      "1  \n"
     ]
    }
   ],
   "source": [
    "for i in range(4,0,-1):\n",
    "    for j in range(i,0,-1):\n",
    "        print(j,end=\" \")\n",
    "    print(\" \")    \n",
    "    "
   ]
  },
  {
   "cell_type": "code",
   "execution_count": 211,
   "id": "c08a0846-4c53-4afe-b25c-f3b9c27fdc15",
   "metadata": {},
   "outputs": [
    {
     "name": "stdout",
     "output_type": "stream",
     "text": [
      "4 3 2 1  \n",
      "4 3 2  \n",
      "4 3  \n",
      "4  \n"
     ]
    }
   ],
   "source": [
    "for i in range(4,0,-1):\n",
    "    for j in range(4,4-i,-1):\n",
    "        print(j,end=\" \")\n",
    "    print(\" \")    \n",
    "    "
   ]
  },
  {
   "cell_type": "code",
   "execution_count": 212,
   "id": "03d98963-f734-43d4-8511-15059c886c9f",
   "metadata": {},
   "outputs": [
    {
     "name": "stdout",
     "output_type": "stream",
     "text": [
      "1 2 3 4 5  \n",
      "1 2 3 4  \n",
      "1 2 3  \n",
      "1 2  \n",
      "1  \n"
     ]
    }
   ],
   "source": [
    "for i in range(5,0,-1):\n",
    "    for j in range(1,i+1):\n",
    "        print(j,end=\" \")\n",
    "        \n",
    "        \n",
    "    print(\" \")    "
   ]
  },
  {
   "cell_type": "code",
   "execution_count": 213,
   "id": "3b496e6f-313a-4fe5-aed3-2e0329e99ed7",
   "metadata": {},
   "outputs": [
    {
     "name": "stdout",
     "output_type": "stream",
     "text": [
      "F E D C B A  \n",
      "F E D C B  \n",
      "F E D C  \n",
      "F E D  \n",
      "F E  \n",
      "F  \n"
     ]
    }
   ],
   "source": [
    "for i in range(6,0,-1):\n",
    "    for j in range(70,70-i,-1):\n",
    "        print(chr(j),end=\" \")\n",
    "    print(\" \")"
   ]
  },
  {
   "cell_type": "code",
   "execution_count": 215,
   "id": "08e96209-80da-40d4-ac42-925bd5f7818e",
   "metadata": {},
   "outputs": [
    {
     "name": "stdout",
     "output_type": "stream",
     "text": [
      "F \n",
      "HJ \n",
      "LNP \n",
      "RTVX \n"
     ]
    }
   ],
   "source": [
    "n=1\n",
    "for i in range(1,5):\n",
    "    for j in range(1,i+1):\n",
    "        print(chr(69+n),end=\"\")\n",
    "        n=n+2\n",
    "    print(\" \")    "
   ]
  },
  {
   "cell_type": "code",
   "execution_count": 217,
   "id": "b77afbe2-7eb0-4d94-bfad-65d011f5916f",
   "metadata": {},
   "outputs": [
    {
     "name": "stdout",
     "output_type": "stream",
     "text": [
      "* \n",
      "* * \n",
      "*   * \n",
      "*     * \n",
      "* * * * * \n"
     ]
    }
   ],
   "source": [
    "for i in range (1,6):\n",
    "  for j in range (1,i+1):\n",
    "    if j ==1 or j==i or i==5:\n",
    "      print(\"*\",end=\" \")\n",
    "    else:\n",
    "      print(\" \",end=\" \")\n",
    "\n",
    "  print()\n"
   ]
  },
  {
   "cell_type": "code",
   "execution_count": 218,
   "id": "794dcb77-a6c8-460e-a0b1-73fc2c3a16de",
   "metadata": {},
   "outputs": [
    {
     "name": "stdout",
     "output_type": "stream",
     "text": [
      " \n",
      "10  \n",
      "9 8  \n",
      "7 6 5  \n",
      "4 3 2 1  \n"
     ]
    }
   ],
   "source": [
    "n=10\n",
    "for i in range(1,6):\n",
    "    for j in range(1,i):\n",
    "        print(n,end=\" \")\n",
    "        n=n-1\n",
    "    print(\" \")"
   ]
  },
  {
   "cell_type": "code",
   "execution_count": 219,
   "id": "f093e7a2-a5fe-45ed-b0bf-073b2d081582",
   "metadata": {},
   "outputs": [
    {
     "name": "stdout",
     "output_type": "stream",
     "text": [
      " \n",
      "1  \n",
      "2 3  \n",
      "4 5 6  \n",
      "7 8 9 10  \n"
     ]
    }
   ],
   "source": [
    "n = 1\n",
    "for i in range(1,6,1):\n",
    "    for j in range(1,i):\n",
    "        print(n,end=\" \")\n",
    "        n += 1\n",
    "    print(\" \")"
   ]
  },
  {
   "cell_type": "code",
   "execution_count": 233,
   "id": "8d4769ac-fb53-419d-9c2c-afa54da43b23",
   "metadata": {},
   "outputs": [
    {
     "name": "stdout",
     "output_type": "stream",
     "text": [
      "A B C D 1  \n",
      "B C D 1 2  \n",
      "C D 1 2 3  \n",
      "D 1 2 3 4  \n"
     ]
    }
   ],
   "source": [
    "n=1\n",
    "for i in range(1,5,1):\n",
    "    for k in range(i,5):\n",
    "        print(chr(64+k),end=\" \")\n",
    "        n=n+1\n",
    "    for j in range(1,i+1):\n",
    "        print(j, end=\" \")\n",
    "    print(\" \")    "
   ]
  },
  {
   "cell_type": "code",
   "execution_count": 3,
   "id": "7ae4c74c-5171-4fe2-8658-1abc56b99012",
   "metadata": {},
   "outputs": [
    {
     "name": "stdout",
     "output_type": "stream",
     "text": [
      "A B C D 1 \n",
      "A B C 1 2 \n",
      "A B 1 2 3 \n",
      "A 1 2 3 4 \n"
     ]
    }
   ],
   "source": [
    "\n",
    "for i in range(1,5):\n",
    "    for K in range(i,5):\n",
    "        print(chr(65+(K-i)) ,end =\" \")\n",
    "       \n",
    "    for J in range(1,i+1):\n",
    "        print(J ,end =\" \")\n",
    "    print(\"\")"
   ]
  },
  {
   "cell_type": "code",
   "execution_count": null,
   "id": "95293e06-30a6-44f4-a696-54bb2db5c6e9",
   "metadata": {},
   "outputs": [],
   "source": []
  }
 ],
 "metadata": {
  "kernelspec": {
   "display_name": "Python 3 (ipykernel)",
   "language": "python",
   "name": "python3"
  },
  "language_info": {
   "codemirror_mode": {
    "name": "ipython",
    "version": 3
   },
   "file_extension": ".py",
   "mimetype": "text/x-python",
   "name": "python",
   "nbconvert_exporter": "python",
   "pygments_lexer": "ipython3",
   "version": "3.10.11"
  }
 },
 "nbformat": 4,
 "nbformat_minor": 5
}
